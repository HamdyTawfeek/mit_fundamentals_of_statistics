{
 "cells": [
  {
   "cell_type": "markdown",
   "metadata": {},
   "source": [
    "<h3>In this Unit we will:</h3>\n",
    "\n",
    "<ul>\n",
    "    <li> Construct a statistical model.</li>\n",
    "    <li> Study common statistical models.</li>\n",
    "    <li> Distinguish between parametric and non-parametric statistical models.</li>\n",
    "    <li> Determine whether or not a parameter in a statistical model is identified.</li>\n",
    "    <li> Distinguish between an estimator and a statistic.</li>\n",
    "    <li> Compute the bias , variance , and quadratic risk of an estimator.</li>\n",
    "    <li> Determine whether or not an estimator is consistent.</li>\n",
    "    <li> Construct a confidence interval for an unknown parameter.</li>\n",
    "    <li> Explain the frequentist interpretation of the confidence interval.</li>\n",
    "    <li>Apply the Delta method to an asymptotically normal sequence of random variables.</li>\n",
    "\n",
    "<li>Estimate the parameter and construct confidence intervals for an exponential statistical model using the Delta method.</li>\n",
    "\n",
    "<li>Construct confidence intervals for a variety of statistical models using the Delta method and one of the conservative , solve , or plug-in methods.</li>\n",
    "\n",
    "<li>Give a frequentist interpretation of the meaning of a (asymptotic) confidence interval of level $1-\\alpha$ .</li>\n",
    "</ul>"
   ]
  },
  {
   "cell_type": "code",
   "execution_count": null,
   "metadata": {},
   "outputs": [],
   "source": []
  }
 ],
 "metadata": {
  "kernelspec": {
   "display_name": "Python 3",
   "language": "python",
   "name": "python3"
  },
  "language_info": {
   "codemirror_mode": {
    "name": "ipython",
    "version": 3
   },
   "file_extension": ".py",
   "mimetype": "text/x-python",
   "name": "python",
   "nbconvert_exporter": "python",
   "pygments_lexer": "ipython3",
   "version": "3.7.4"
  }
 },
 "nbformat": 4,
 "nbformat_minor": 4
}
