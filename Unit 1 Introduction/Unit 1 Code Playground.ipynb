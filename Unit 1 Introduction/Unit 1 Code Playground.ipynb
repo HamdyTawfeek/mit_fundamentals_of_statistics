{
 "cells": [
  {
   "cell_type": "code",
   "execution_count": 1,
   "metadata": {},
   "outputs": [
    {
     "data": {
      "image/png": "[encoded data removed]",
      "text/plain": [
       "<Figure size 432x288 with 1 Axes>"
      ]
     },
     "metadata": {
      "needs_background": "light"
     },
     "output_type": "display_data"
    }
   ],
   "source": [
    "import numpy as np\n",
    "import matplotlib.pyplot as plt\n",
    "\n",
    "def lecture2_7(f, n_max = 100):\n",
    "    # param f: a bounded function\n",
    "    # X_n ~ B(1/n) Bernouilli r.v.\n",
    "    E_f_x_n = np.zeros(n_max)\n",
    "    for n in range(1, n_max):\n",
    "        E_f_x_n[n] = f(1)/n + f(0)*(1-1/n)\n",
    "    fig, ax = plt.subplots(1, 1)\n",
    "    ax.plot(range(n_max), E_f_x_n, label='E(cos(Xn))')\n",
    "    ax.legend()\n",
    "    ax.set_xlabel('n')\n",
    "    ax.set_ylabel('Expectation')\n",
    "    ax.set_title('Lecture 2-7  X_i ~ B(1/n) Convergence in distribution of E[f(Xn)]')\n",
    "    ax.plot(range(n_max), np.ones(n_max), linestyle=':')\n",
    "    plt.show()\n",
    "\n",
    "lecture2_7(np.cos)"
   ]
  },
  {
   "cell_type": "code",
   "execution_count": null,
   "metadata": {},
   "outputs": [],
   "source": []
  },
  {
   "cell_type": "markdown",
   "metadata": {},
   "source": [
    "* Compute quantile"
   ]
  },
  {
   "cell_type": "code",
   "execution_count": 3,
   "metadata": {},
   "outputs": [
    {
     "name": "stdout",
     "output_type": "stream",
     "text": [
      "0.6744897501960817\n"
     ]
    }
   ],
   "source": [
    "from scipy.stats import norm\n",
    "one_minus_alpha = 0.5\n",
    "alpha = 1 - one_minus_alpha\n",
    "\n",
    "q_alpha = norm.ppf(1-alpha)\n",
    "q_alpha_2 = norm.ppf(1-alpha/2)\n",
    "print(q_alpha_2)"
   ]
  },
  {
   "cell_type": "markdown",
   "metadata": {},
   "source": [
    "* Finding roots"
   ]
  },
  {
   "cell_type": "code",
   "execution_count": 10,
   "metadata": {},
   "outputs": [
    {
     "data": {
      "text/plain": [
       "array([0.73182936, 0.54744215])"
      ]
     },
     "execution_count": 10,
     "metadata": {},
     "output_type": "execute_result"
    }
   ],
   "source": [
    "from numpy import roots\n",
    "\n",
    "# quadratic eaquation Ap^2+Bp+C\n",
    "roots([1.038416, -1.328416, 0.416025]) "
   ]
  },
  {
   "cell_type": "code",
   "execution_count": null,
   "metadata": {},
   "outputs": [],
   "source": []
  }
 ],
 "metadata": {
  "kernelspec": {
   "display_name": "Python 3",
   "language": "python",
   "name": "python3"
  },
  "language_info": {
   "codemirror_mode": {
    "name": "ipython",
    "version": 3
   },
   "file_extension": ".py",
   "mimetype": "text/x-python",
   "name": "python",
   "nbconvert_exporter": "python",
   "pygments_lexer": "ipython3",
   "version": "3.7.4"
  }
 },
 "nbformat": 4,
 "nbformat_minor": 4
}
