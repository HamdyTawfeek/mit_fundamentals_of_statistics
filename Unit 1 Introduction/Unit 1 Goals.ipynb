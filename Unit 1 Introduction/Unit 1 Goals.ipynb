{
 "cells": [
  {
   "cell_type": "markdown",
   "metadata": {},
   "source": [
    "<h3>In this Unit we will:</h3>\n",
    "\n",
    "* Give introduction to statistics and probability and the relation between them\n",
    "\n",
    "* Recall the statements of the (strong/weak) law of large numbers and the central limit theorem and know to apply these for large sample sizes.\n",
    "\n",
    "* Apply Hoeffding's inequality to the sample means of bounded i.i.d. random variables.\n",
    "\n",
    "* Recall the probability density function and properties of the Gaussian distribution .\n",
    "\n",
    "* Use Gaussian probability tables to obtain probabilities and quantiles .\n",
    "\n",
    "* Distinguish between convergence almost surely , convergence in probability and convergence in distribution , understand that these notions are from strongest to weakest.\n",
    "\n",
    "* Determine convergence of sums and products of sequences that converge almost surely or in probability.\n",
    "\n",
    "* Apply Slutsky's theorem to the sum and product of a sequence that converges in distribution and and another that converges in probability to a constant.\n",
    "\n",
    "* Use the continuous mapping theorem to determine convergence of sequences of a function of random variables.\n",
    "\n"
   ]
  }
 ],
 "metadata": {
  "kernelspec": {
   "display_name": "Python 3",
   "language": "python",
   "name": "python3"
  },
  "language_info": {
   "codemirror_mode": {
    "name": "ipython",
    "version": 3
   },
   "file_extension": ".py",
   "mimetype": "text/x-python",
   "name": "python",
   "nbconvert_exporter": "python",
   "pygments_lexer": "ipython3",
   "version": "3.6.9"
  }
 },
 "nbformat": 4,
 "nbformat_minor": 4
}
