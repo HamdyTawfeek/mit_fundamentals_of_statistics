{
 "cells": [
  {
   "cell_type": "markdown",
   "metadata": {},
   "source": [
    "<h2>  <span style=\"color:blue\">What is Statistics </span> </h2>\n",
    "\n",
    "* Statistics, Data Science, Machine Learning and AI are all data driven fields with shared principles: gather data, process data, get insight and ultimately make decisions.\n",
    "\n",
    "* Statistics is a set of techniques at the core of data processing. As we're moving towards bigger data sets, computational aspects come into play.\n",
    "\n",
    "* Most machine learning methods are descriped as an algorithm, but usually what this algoithm does is implement some statistical principle in an efficient way.\n",
    "\n",
    "* The statistical view is that data comes from a random process. and they're actually\n",
    "representative of this random process. If we had infinite computational power and infinite data, we could describe the random process completely accurately. However there would be still be some inheret randomness due to aspects of data we don't know or understand.\n",
    "The goal of statistics is to extrapolate from a finite number of data to what\n",
    "you would get if you had an infinite amount of observations.\n",
    "And then once you know this, you know you're going to be able to make the most accurate predictions.\n",
    "\n",
    "* Statistical modeling says,\n",
    "there's the part I understand from the data that I have,\n",
    "and then there's everything I don't understand.\n",
    "This I will pretend is random. So if you understand the random process,\n",
    "you will understand everything you can understand from your data.\n",
    "\n",
    "\n"
   ]
  },
  {
   "cell_type": "markdown",
   "metadata": {},
   "source": [
    "<h3><span style=\"color:#6600CC\">The central dogma of statistics and probability</span></h3> \n",
    "\n",
    "\n",
    "* Statistics is the one that says give me data\n",
    "and I will tell you something about a random process. Like estimate the parameters of the process.\n",
    "\n",
    "* Statistics is reverse engineering probability."
   ]
  },
  {
   "cell_type": "markdown",
   "metadata": {},
   "source": [
    "<img src=\"../images/01.statistics_dogma.png\"> </img>"
   ]
  },
  {
   "cell_type": "markdown",
   "metadata": {},
   "source": [
    "<h3><span style=\"color:#6600CC\">Statistical modelling</span></h3> \n"
   ]
  },
  {
   "cell_type": "markdown",
   "metadata": {},
   "source": [
    "<span style=\"color:blue\">Complicated process </span> = <span style=\"color:green\">Simple process</span> + <span style=\"color:red\">random noise</span>\n",
    "\n",
    "\n",
    "\n",
    "\n",
    "* There's things that you just don't understand.\n",
    "It's just not accessible to you.\n",
    "And what is it?\n",
    "Well, typically it's everything that you do not\n",
    "have in your data set. This is a modeling assumption, again,\n",
    "a modeling assumption that it is random noise in the sense\n",
    "that this will just--\n",
    "what I mean by random, typically,\n",
    "is that I mean that it's going to be half of the time big,\n",
    "half of the time small.\n",
    "It's going to average out over people.\n",
    "I don't want to have something which has a systematic bias.\n",
    "\n",
    "* (Good) Modeling consists in choosing (plausible) simple\n",
    "process and noise distribution.\n"
   ]
  },
  {
   "cell_type": "markdown",
   "metadata": {},
   "source": [
    "<h3 style=\"color:orange\">The Kiss</h3>"
   ]
  },
  {
   "cell_type": "markdown",
   "metadata": {},
   "source": [
    "<img src=\"../images/kiss.jpg\"> </img>"
   ]
  },
  {
   "cell_type": "markdown",
   "metadata": {},
   "source": [
    "* We want to understand do humans tend to lean their head to the right or to the left when\n",
    "they were kissing.\n",
    "\n",
    "* We have an intuition that if this person collected 100 points and 90% of them\n",
    "were actually turning their head to the right,\n",
    "that would probably be an indication that, yes, there is a preference for turning\n",
    "your head to the right. But what is the cutoff?\n",
    "\n",
    "* The question is what is the true proportion\n",
    "of people turning their head to the right\n",
    "in the entire population of the world.\n",
    "\n",
    "* Let us design a statistical experiment and analyze its outcome.\n",
    "\n",
    "    * Let $p$ denote the proportion of couples that turn their head to\n",
    "    the right when kissing. We want to know what $p$ is.\n",
    "\n",
    "    * Observe n kissing couples times and collect the value of each\n",
    "    outcome (say 1 for RIGHT and 0 for LEFT).\n",
    "    \n",
    "    * Estimate $p$ with the proportion $\\hat{p}$ of RIGHT.\n",
    "    \n",
    "    * Study: “Human behaviour: Adult persistence of head-turning asymmetry” (Nature, 2003): n = 124 and 80 to the right so $\\hat{p} = \\frac{80}{124} = 65.5\\% $\n",
    "    \n",
    "    * So 64.6% seems to indicate that it's larger than 50%. And we want to know if it's significantly larger than 50%. If I got the same number from 10 couples, maybe I would not believe it as much as if I had it from a million couples. And again, where is the cutoff? And that's the stats question.\n",
    "    \n",
    "    * If my data was three data points, I get three couples kissing. I had right, right, left, that's 66.7%. Even more compelling, right? Probably not.\n",
    "    * 3 is too small. 124 may be large enough. A million certainly would be. The question is What should your sample size be to be convinced that this proportion is larger than 50%?\n",
    "\n"
   ]
  },
  {
   "cell_type": "markdown",
   "metadata": {},
   "source": [
    "<span style=\"color:green\"><b>A First Estimator</b> </span>\n",
    "\n",
    "- For $i = 1,...,n$ define $R_i = 1$ if the ith couple turns to the\n",
    "right RIGHT, $R_{i} = 0$ otherwise.\n",
    "\n",
    "\n",
    "- Sample Mean Estimator:  $$ \\hat{p} = \\bar{R}_n = \\frac{1}{n} \\sum_{i=1}^n R_i$$\n",
    "\n",
    "\n",
    "- What is the accuracy of this estimator? And what is the accuracy even mean? We want to know, we have this $\\hat{p}$, and I want to know how close it is to this true p. This is where randomness comes into play. Think of randomness as being this p-hat is just an average of those numbers.And those numbers are random variables that take value 0, 1. So we're going to think of the $R_{i}$'s as random variables. And $\\hat{p}$ is also\n",
    "random variable as an average of random variables. It's a function of random variables. So every time I'm going to collect a new data set, I'm going to get a new number for $\\hat{p}$. This number I'm going to view as realization of random variable. What we want to understand accuracy means. This random variable will tend to take some values.\n",
    "Hopefully the values it will tend to take are close to the value that I'm looking for,\n",
    "the true p. But it will have some fluctuations. How far do they fluctuate?\n",
    "\n",
    "\n",
    "\n",
    "<span style=\"color:green\"><b>Modelling Assumptions</b> </span>\n",
    "\n",
    "- Coming up with a model consists of making assumptions on the observations $R_{i}, i = 1,...,n$ in order to draw statistical conclusions. Here are the assumptions we make:\n",
    "\n",
    "    - Each $R_{i}$ is a random variable.\n",
    "    - Each of the r.v. $R_{i}$ is Bernoulli with parameter $p$\n",
    "    - $R_{1},...,R_{n}$ are mutually independent.\n",
    "\n",
    "\n",
    "- Assumptions discussioion:\n",
    "    - Randomness is a way of modeling lack of information; with perfect information about the conditions of kissing (including what goes on in the kissers’ mind), physics or sociology would allow us to predict the outcome.\n",
    "    - Hence, the $R_{i}$’s are necessarily Bernoulli r.v. since $R_{i} \\in \\{0, 1\\}$. They could still have a different  parameter $ R_{i} \\approx\t \\text{Ber(}p_{i}) $ for each couple but we don’t have enough information with the data to estimate the $p_i$’s accurately. So we simply assume that our observations come from the same process: $p_i = p$ for all i.\n",
    "    - Independence is reasonable (people were observed at different\n",
    "locations and different times)\n",
    "\n",
    "\n",
    "\n",
    "\n",
    "\n",
    "- The independence assumption is very important and will help us to use tools from probability. We use law of large numbers, central limit theorem, some variance equalities. All of them requires\n",
    "independent random variables."
   ]
  },
  {
   "cell_type": "markdown",
   "metadata": {},
   "source": [
    "<span style=\"color:green\"><b>Population vs. Samples</b> </span>\n",
    "\n",
    "\n",
    "* Let's understand the truth to data (probability) part of central dogma diagram though simulations of the real world.\n",
    "\n",
    "* Draw 1,000 time samples of size 124  with p = 35% or 65% from this population of size 5,000.\n",
    "\n",
    "* What do samples of size 124 look like in each case?\n",
    "\n",
    "\n",
    "<img src=\"../images/02.simulation.png\"> </img>\n",
    "\n",
    "* Why probability? We need to understand probabilistic aspects of the distribution of\n",
    "the random variable.\n",
    "    - Specifically, we need to be able to answer questions such as:\n",
    "    - Is the expected value of $\\hat{p}$ close to the unknown p?\n",
    "    - Does $\\hat{p}$ take values close to p with high probability?\n",
    "    - Is the variance of $\\hat{p}$ large? I.e. does $\\hat{p}$ fluctuate a lot?\n",
    "\n",
    "\n",
    "\n",
    "\n",
    "* What statistics is about is to say,\n",
    "which one is the most likely histogram\n",
    "to have generated the data that I actually see? So now you have only one point and you\n",
    "have to place it in one of those histograms.\n",
    "And you have to decide which one is the best. Probability is supposed to give you some hard rules\n",
    "to tell you what this histogram looks like. It will tell you exactly the probability\n",
    "that you see something larger than 0.36.\n",
    "It will tell you exactly the probability\n",
    "of you seeing something falling in this particular bin.\n",
    "It will tell you exactly what the expected value is.\n",
    "It will tell you what the standard deviation is.\n",
    "It will tell you everything.\n",
    "\n",
    "\n",
    "\n",
    "*  Statistics is a lot about taking averages and doing something fancy.\n",
    "You need to understand averages of random variables. Averages of random variables are essentially\n",
    "controlled by two major tools. One is the law of large number and the other one\n",
    "is the central limit theorem. Those tools will tell us the approximate distribution of random variables."
   ]
  },
  {
   "cell_type": "markdown",
   "metadata": {},
   "source": [
    "---"
   ]
  },
  {
   "cell_type": "markdown",
   "metadata": {},
   "source": [
    "### Read and Watch\n",
    "\n",
    "* <a href=\"https://www.taieb.net/auteurs/Arbuthnot/index.html\"> An argument for\n",
    "Divine Providence</a>\n",
    "\n",
    "* <a href=\"https://www.youtube.com/watch?v=0Rnq1NpHdmw\"> Scientific Studies: Last Week Tonight with John Oliver (HBO)</a>\n",
    "\n"
   ]
  }
 ],
 "metadata": {
  "kernelspec": {
   "display_name": "Python 3",
   "language": "python",
   "name": "python3"
  },
  "language_info": {
   "codemirror_mode": {
    "name": "ipython",
    "version": 3
   },
   "file_extension": ".py",
   "mimetype": "text/x-python",
   "name": "python",
   "nbconvert_exporter": "python",
   "pygments_lexer": "ipython3",
   "version": "3.7.4"
  }
 },
 "nbformat": 4,
 "nbformat_minor": 4
}
