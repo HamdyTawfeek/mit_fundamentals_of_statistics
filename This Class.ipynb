{
 "cells": [
  {
   "cell_type": "markdown",
   "metadata": {},
   "source": [
    "### This Class\n",
    "\n",
    "* This class is a solid introduction to mathematical theory behind statistical models.\n",
    "* Understand the theoretical guarantees and limitations for statistical methods.\n",
    "* Select appropriate statistical method for your problem.\n",
    "* From a real-life situation, formulate a statistical problem in mathematical terms.\n",
    "* Justify quantitive statements given modeling assumptions\n",
    "* Provide a math toolbox to extend to other models.\n",
    "* I do have statistical evidence that something is actually happening.\n",
    "* How to be a Data-Driven person.\n",
    "* 99% of statistics is taking averages and then doing something fancy.\n",
    "---"
   ]
  }
 ],
 "metadata": {
  "kernelspec": {
   "display_name": "Python 3",
   "language": "python",
   "name": "python3"
  },
  "language_info": {
   "codemirror_mode": {
    "name": "ipython",
    "version": 3
   },
   "file_extension": ".py",
   "mimetype": "text/x-python",
   "name": "python",
   "nbconvert_exporter": "python",
   "pygments_lexer": "ipython3",
   "version": "3.6.9"
  }
 },
 "nbformat": 4,
 "nbformat_minor": 4
}
