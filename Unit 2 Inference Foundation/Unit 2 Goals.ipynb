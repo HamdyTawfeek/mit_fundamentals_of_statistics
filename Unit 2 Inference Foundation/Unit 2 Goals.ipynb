{
 "cells": [
  {
   "cell_type": "markdown",
   "metadata": {},
   "source": [
    "<h3>In this Unit we will:</h3>\n",
    "\n",
    "<ul>\n",
    "    <li> Construct a statistical model.</li>\n",
    "    <li> Study common statistical models.</li>\n",
    "    <li> Distinguish between parametric and non-parametric statistical models.</li>\n",
    "    <li> Determine whether or not a parameter in a statistical model is identified.</li>\n",
    "    <li> Distinguish between an estimator and a statistic.</li>\n",
    "    <li> Compute the bias , variance , and quadratic risk of an estimator.</li>\n",
    "    <li> Determine whether or not an estimator is consistent.</li>\n",
    "    <li> Construct a confidence interval for an unknown parameter.</li>\n",
    "    <li> Explain the frequentist interpretation of the confidence interval.</li>\n",
    "</ul>"
   ]
  }
 ],
 "metadata": {
  "kernelspec": {
   "display_name": "Python 3",
   "language": "python",
   "name": "python3"
  },
  "language_info": {
   "codemirror_mode": {
    "name": "ipython",
    "version": 3
   },
   "file_extension": ".py",
   "mimetype": "text/x-python",
   "name": "python",
   "nbconvert_exporter": "python",
   "pygments_lexer": "ipython3",
   "version": "3.6.9"
  }
 },
 "nbformat": 4,
 "nbformat_minor": 4
}
