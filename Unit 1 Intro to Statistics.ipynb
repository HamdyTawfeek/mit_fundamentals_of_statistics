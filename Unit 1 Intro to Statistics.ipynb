{
 "cells": [
  {
   "cell_type": "markdown",
   "metadata": {},
   "source": [
    "### This Class\n",
    "\n",
    "* This class is a solid introduction to mathematical theory behind statistical models.\n",
    "* Understand the theoretical guarantees and limitations for statistical methods.\n",
    "* Select appropriate statistical method for your problem.\n",
    "* From a real-life situation, formulate a statistical problem in mathematical terms.\n",
    "* Justify quantitive statements given modeling assumptions\n",
    "* Provide a math toolbox to extend to other models.\n",
    "* I do have statistical evidence that something is actually happening.\n",
    "* Data-Driven person, data-driven business, data-driven engineering, data-driven science\n",
    "* 99% of statistics is taking averages and then doing something fancy."
   ]
  },
  {
   "cell_type": "markdown",
   "metadata": {},
   "source": [
    "### What is Statistics\n",
    "\n",
    "* Statistics, Data Science, Machine Learning and AI are all data driven fields with shared principles: gather data, process data, get insight and ultimately make decisions.\n",
    "\n",
    "* Statistics is a set of techniques at the core of data processing. As we're moving towards bigger data sets, computational aspects come into play.\n",
    "\n",
    "* Most machine learning methods are descriped as an algorithm, but usually what this algoithm does is implement some statistical principle in an efficient way.\n",
    "\n",
    "* The statistical view is that data comes from a random process. and they're actually\n",
    "representative of this random process. If we had infinite computational power and infinite data, we could describe the random process completely accurately. However there would be still be some inheret randomness due to aspects of data we don't know or understand.\n",
    "The goal of statistics is to extrapolate from a finite number of data to what\n",
    "you would get if you had an infinite amount of observations.\n",
    "And then once you know this, you know you're going to be able to make the most accurate predictions.\n",
    "\n",
    "* Statistical modeling says,\n",
    "there's the part I understand from the data that I have,\n",
    "and then there's everything I don't understand.\n",
    "This I will pretend is random. So if you understand the random process,\n",
    "you will understand everything you can understand from your data.\n",
    "\n",
    "\n"
   ]
  },
  {
   "cell_type": "markdown",
   "metadata": {},
   "source": [
    "### Statistical modelling and the central dogma of statistics and probability\n",
    "\n",
    "* Statistics is the one that says give me data\n",
    "and I will tell you something about a random process. Like estimate the parameters of the process.\n",
    "\n",
    "* Statistics is reverse engineering probability."
   ]
  },
  {
   "cell_type": "markdown",
   "metadata": {},
   "source": [
    "<img src=\"images/01.statistics_dogma.png\"> </img>"
   ]
  },
  {
   "cell_type": "markdown",
   "metadata": {},
   "source": [
    "**Statistical modeling:**\n",
    "\n",
    "<font color='blue'>Complicated process </font>  “=”  <font color='green'>Simple process </font> +  <font color='red'>random noise</font> \n",
    "\n",
    "\n",
    "\n",
    "\n",
    "* There's things that you just don't understand.\n",
    "It's just not accessible to you.\n",
    "And what is it?\n",
    "Well, typically it's everything that you do not\n",
    "have in your data set. This is a modeling assumption, again,\n",
    "a modeling assumption that it is random noise in the sense\n",
    "that this will just--\n",
    "what I mean by random, typically,\n",
    "is that I mean that it's going to be half of the time big,\n",
    "half of the time small.\n",
    "It's going to average out over people.\n",
    "I don't want to have something which has a systematic bias.\n",
    "\n",
    "* (Good) Modeling consists in choosing (plausible) simple\n",
    "process and noise distribution.\n",
    "\n",
    "\n"
   ]
  },
  {
   "cell_type": "code",
   "execution_count": null,
   "metadata": {},
   "outputs": [],
   "source": []
  },
  {
   "cell_type": "code",
   "execution_count": null,
   "metadata": {},
   "outputs": [],
   "source": []
  },
  {
   "cell_type": "code",
   "execution_count": null,
   "metadata": {},
   "outputs": [],
   "source": []
  },
  {
   "cell_type": "code",
   "execution_count": null,
   "metadata": {},
   "outputs": [],
   "source": []
  },
  {
   "cell_type": "markdown",
   "metadata": {},
   "source": [
    "### Resources\n",
    "\n",
    "* <a href=\"https://www.taieb.net/auteurs/Arbuthnot/index.html\"> An argument for\n",
    "Divine Providence</a>"
   ]
  },
  {
   "cell_type": "code",
   "execution_count": null,
   "metadata": {},
   "outputs": [],
   "source": []
  }
 ],
 "metadata": {
  "kernelspec": {
   "display_name": "Python 3",
   "language": "python",
   "name": "python3"
  },
  "language_info": {
   "codemirror_mode": {
    "name": "ipython",
    "version": 3
   },
   "file_extension": ".py",
   "mimetype": "text/x-python",
   "name": "python",
   "nbconvert_exporter": "python",
   "pygments_lexer": "ipython3",
   "version": "3.7.4"
  }
 },
 "nbformat": 4,
 "nbformat_minor": 4
}
