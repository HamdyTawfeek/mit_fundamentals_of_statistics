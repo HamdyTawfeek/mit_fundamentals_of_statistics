{
 "cells": [
  {
   "cell_type": "markdown",
   "metadata": {},
   "source": [
    "<h2>   <span style=\"color:blue\">Parametric Estimation and Confidence Intervals </span> </h2>"
   ]
  },
  {
   "cell_type": "markdown",
   "metadata": {},
   "source": [
    "<h3><span style=\"color:#6600CC\">Parameter Estimation Definitions</span></h3> \n",
    "\n",
    "\n",
    "Estimation is probably the most natural thing\n",
    "you might want to do when you're faced\n",
    "with a statistical inference question.\n",
    "You observed data.\n",
    "If your model is well specified, you\n",
    "know that it comes from one of the candidate probability\n",
    "distributions.\n",
    "The most natural question is, can I find which one?\n",
    "To identify it, if your model is both well specified\n",
    "and identifiable, you can just go ahead\n",
    "and identify the correct $\\theta$.\n",
    "\n",
    "\n",
    "\n",
    "\n",
    "<span style=\"color:green\"><b>Statistic</b> </span> Any measurable function of the sample, e.g. $\\bar{X}_n$, $max_i X_i, X_1 + log(1 + |X_n|)$, $s^2$ (sample variance), ...\n",
    "\n",
    "<i>\"If you can compute it once I give you data, it is measurable.\"</i>\n",
    "\n",
    "\n",
    "<span style=\"color:green\"><b>Estimator of $\\theta$</b> </span> Any statistic whose expression does not depend on $\\theta$.\n",
    "\n",
    "\n",
    "<span style=\"color:green\"><b>An estimator $\\hat{\\theta}_n$ of $\\theta$ </b> </span> is weakly (resp. strongly) **consistent** if\n",
    "\n",
    "$$\\hat{\\theta}_n \\xrightarrow[n \\to \\infty]{\\mathbb{P}(resp. \\, a.s.)} \\theta \\quad (w.r.t. \\mathbb{P_{\\theta}})$$\n",
    "\n",
    "\n",
    "\n",
    "<span style=\"color:green\"><b>An estimator $\\hat{\\theta}_n$ of $\\theta$</b> </span>\n",
    "is **asymptotically normal** if\n",
    "\n",
    "$$\\sqrt{n}(\\hat{\\theta}_n - \\theta) \\xrightarrow[n \\to \\infty]{(d)} \\mathcal{N}(0, \\sigma^2)$$\n",
    "\n",
    "- The quantity $\\sigma^2$ is then called asymptotic variance of $\\hat{\\theta}_n$. <i>asymptotic variance</i> as defined here is distinct from, and necessarily follows from:\n",
    "\n",
    "$$var(\\hat{\\theta}_n)\\xrightarrow[n \\to \\infty]{} 0$$\n",
    "\n"
   ]
  },
  {
   "cell_type": "markdown",
   "metadata": {},
   "source": [
    "\n",
    "<h3><span style=\"color:#6600CC\">Bias of an Estimator</span></h3> \n",
    "\n",
    "Bias of an estimator $\\hat{\\theta}_n$ of $\\theta$:\n",
    "   \n",
    "$$bias(\\hat{\\theta}_n) = \\mathbb E[\\hat{\\theta }_ n] - \\theta .$$\n",
    "\n",
    "- if an estimator has bias 0, it's unbiased\n",
    "\n",
    "Examples: Assume that $X_1, ..., X_n \\overset{iid}{\\sim} Ber(p)$) and consider the following estimators for $p$:\n",
    "\n",
    "- $\\hat{p}_n = \\bar{X}_n \\,\\,: bias(\\hat{p}_n) = 0$\n",
    "\n",
    "- $\\hat{p}_n = X_1: \\,\\, bias(\\hat{p}_n) = 0$\n",
    "\n",
    "- $\\hat{p}_n = \\frac{X_1 + X_2}{2}\\,\\, : bias(\\hat{p}_n) = 0$\n",
    "\n",
    "- $\\hat{p}_n = \\,\\,\\sqrt{\\mathcal{I}(X_1 = 1, X_2 = 1)} = \\sqrt{Ber(p^2)} = Ber(p^2)$: $bias(\\hat{p}_n) = p^2 - p$"
   ]
  },
  {
   "cell_type": "markdown",
   "metadata": {},
   "source": [
    "\n",
    "<h3><span style=\"color:#6600CC\">Variance of an Estimator</span></h3> \n",
    "\n",
    "An Estimator is a random variable so we can compute its variance as we know.\n",
    "\n",
    "$$var(X) = E[(X-E[X])^2]= E[X^2] - (E[X])^2$$\n",
    "\n",
    "\n",
    "\n",
    "Note: remember that $var(aX) = a^2 var(X)$, so...\n",
    "\n",
    "- $var(\\bar{X}_n) = var(\\frac{X_1 + ... + X_n}{n}) = \\frac{1}{n^2} * var(X_1 + ... + X_n) = \\frac{n*var(X)}{n^2} = \\frac{var(X)}{n}$\n",
    "\n",
    "That's probably the most fundamental reason\n",
    "why you would use averages in statistics,\n",
    "the variance decays linearly with the number of points.\n",
    "\n",
    "Examples $(X \\sim Ber(p))$:\n",
    "- $var(\\bar{X}_n) = \\frac{p(1-p)}{n}$\n",
    "\n",
    "\n",
    "- $var(X_1) = p(1-p)$\n",
    "\n",
    "\n",
    "- $var(\\frac{X_1 + X_2}{2}) = \\frac{p(1-p)}{2}$\n",
    "\n",
    "\n",
    "- $var(\\sqrt{X_1 = 1, X_2 = 1}) = var(Ber(p^2)) = p^2(1-p^2)$"
   ]
  },
  {
   "cell_type": "markdown",
   "metadata": {},
   "source": [
    "<h3><span style=\"color:#6600CC\">Quadratic Risk</span></h3> \n",
    "\n",
    "This is multiobjective optimization problem. Quadratic Risk is a very natural way\n",
    "of combining bias and variance. it's trying to achieve having low bias and low variance\n",
    "at the same time.\n",
    "\n",
    "Let $\\hat{\\theta }_ n$ denote an estimator for a parameter  $θ$ . The quadratic risk of  $\\hat{\\theta }_ n$ is defined to be\n",
    "\n",
    "$$\\color{red} {R(\\hat{\\theta}_n)} = \\color{green} {\\mathbb E[(\\hat{\\theta }_ n - \\theta )^2].}$$\n",
    "\n",
    "\n",
    "$$\\mathbb E[(\\hat{\\theta }_ n - \\theta )^2] = E[(\\hat{\\theta}_n - E[\\hat{\\theta}_n])^2] \\quad + \\quad E[(E[\\hat{\\theta}_n] - \\theta)^2] \\quad + \\quad 2E[(\\hat{\\theta}_n - E[\\hat{\\theta}_n])(E[\\hat{\\theta}_n] - \\theta)]$$\n",
    "\n",
    "\n",
    "$$\\color{red} {R(\\hat{\\theta}_n)} = \\color{green} {\\mathbb E[(\\hat{\\theta }_ n - \\theta )^2] = variance + bias^2 }$$"
   ]
  },
  {
   "cell_type": "markdown",
   "metadata": {},
   "source": [
    "<h3><span style=\"color:#6600CC\"> Confidence Intervals</span></h3> "
   ]
  },
  {
   "cell_type": "markdown",
   "metadata": {},
   "source": [
    "\n",
    "Let $(E, (\\mathbb{P}_\\theta)_{\\theta \\in \\Theta})$ be a statistical model based on observations $X_1, ..., X_n$, and assume $\\Theta \\in \\mathbb{R}$. Let $\\alpha \\in (0, 1)$. \n",
    "\n",
    "$$ \\textrm{confidence interval}\\ \\mathcal{I} = \\mathcal{I}(X_1,\\ldots ,X_ n) =[L(X_1,\\ldots ,X_ n),U(X_1,\\ldots ,X_ n)] \\quad \\textrm{for}\\   \\theta$$\n",
    "\n",
    "- <b>Confidence Interval of level $1 - \\alpha$</b> for $\\theta$: Any random (depending on $X_1, ..., X_n$) interval $\\mathcal{I}$ whose boundaries do not depend on $\\theta$ and such that:\n",
    "\n",
    "$$\\mathbb{P}[\\mathcal{I} \\ni \\theta] \\geq 1 - \\alpha, \\quad \\forall \\theta \\in \\Theta$$\n",
    "\n",
    "- <b>Confidence Interval of asymptotic level $1 - \\alpha$</b> for $\\theta$: Any random interval $\\mathcal{I}$ whose boundaries do not depend on $\\theta$ and such that:\n",
    "    \n",
    "$$\\lim_{n \\to \\infty} \\mathbb{P}[\\mathcal{I} \\ni \\theta] \\geq 1 - \\alpha, \\quad \\forall \\theta \\in \\Theta$$\n",
    "\n",
    "- Note: $\\mathcal{I} \\ni \\theta$ is the same as saying $\\theta \\in \\mathcal{I}$, but the reversal is used here to emphasize the randomness of $\\mathcal{I}$. Rather than 'theta in the CI', it's 'CI contains theta'.\n"
   ]
  },
  {
   "cell_type": "markdown",
   "metadata": {},
   "source": [
    "### CI for the Kiss Example\n",
    "\n",
    "$R_1, ... R_n \\overset{iid}{\\rightarrow} Ber(p)$, for some unknown $p \\in (0, 1)$\n",
    "\n",
    "- Statistical model: $({0, 1}, (Ber(p))_{p \\in (0, 1)})$\n",
    "- Estimator for p: $\\hat{p} = \\bar{R}_n$\n",
    "\n",
    "$\\sqrt{n} \\frac{\\bar{R}_n - p}{\\sqrt{p(1-p)}} \\xrightarrow[n \\to \\infty]{(d)} \\mathbb{Z} = \\mathcal{N}(0, 1)$\n",
    "\n",
    "- $\\Phi_n(x) \\approx \\Phi(x)$ when $n$ becomes large. So, for all $x > 0$:\n",
    "\n",
    "$\\mathbb{P} [|\\bar{R}_n - p| \\geq x] \\approx 2 (1 - \\Phi(\\frac{x\\sqrt{n}}{\\sqrt{p(1-p)}}))$\n",
    "\n",
    "and\n",
    "\n",
    "$\\bar{R}_n \\in [p - \\frac{q_{\\alpha/2}\\sqrt{p(1-p)}}{\\sqrt{n}}, p + \\frac{q_{\\alpha/2}\\sqrt{p(1-p)}}{\\sqrt{n}}]$\n",
    "\n",
    "\n",
    "### Working the formula for x\n",
    "\n",
    "$2 (1 - \\Phi(\\frac{x\\sqrt{n}}{\\sqrt{p(1-p)}})) = \\alpha$\n",
    "\n",
    "$\\frac{x\\sqrt{n}}{\\sqrt{p(1-p)}} = \\Phi^{-1}(1 - \\frac{\\alpha}{2}) = q_{\\alpha / 2}$\n",
    "\n",
    "- $x = \\frac{q_{\\alpha / 2}\\sqrt{p(1-p)}}{\\sqrt{n}}$\n",
    "\n",
    "So, \n",
    "\n",
    "- $\\lim_{n \\to \\infty} \\mathbb{P}([\\bar{R}_n - x, \\bar{R}_n + x] \\ni p) = 1 - \\alpha$\n",
    "\n",
    "#### ...which is not yet a confidence interval because this $x$ depends on the unknown $p$.\n",
    "\n",
    "### Conservative bound\n",
    "\n",
    "- $p(1-p) \\leq \\frac{1}{4}$, given $p(1-p)$ is largest when $p = 0.5$\n",
    "- $\\sqrt{1/4} = 1/2$\n",
    "\n",
    "giving the asymptotic confidence interval\n",
    "\n",
    "$\\mathcal{I}_{conserv} = [\\bar{R}_n - \\frac{q_{\\alpha/2}}{2\\sqrt{n}}, \\bar{R}_n + \\frac{q_{\\alpha/2}}{2\\sqrt{n}}]$\n",
    "\n",
    "because as $n \\to \\infty$, the probability p is in the conservative confidence interval is at least $1 - \\alpha$"
   ]
  },
  {
   "cell_type": "code",
   "execution_count": null,
   "metadata": {},
   "outputs": [],
   "source": []
  },
  {
   "cell_type": "code",
   "execution_count": null,
   "metadata": {},
   "outputs": [],
   "source": []
  },
  {
   "cell_type": "code",
   "execution_count": null,
   "metadata": {},
   "outputs": [],
   "source": []
  },
  {
   "cell_type": "markdown",
   "metadata": {},
   "source": [
    "---\n",
    "<h3><span style=\"color:#6600CC\">Note</span></h3>\n",
    "\n",
    "* There are things called loss functions. For example, $|\\hat{\\theta} - \\theta|$ is a loss function, but so is $(\\hat{\\theta} - \\theta)^2.$ And then there are expectations of loss functions, also called risk. For example, $\\mathop{\\mathbb{E}}[|\\hat{\\theta} - \\theta|]$ is a risk, but so is $(\\mathop{\\mathbb{E}}[(\\hat{\\theta} - \\theta)^2])$. This is why they call $\\mathop{\\mathbb{E}}[(\\hat{\\theta} - \\theta)^2]$ as the quadratic because, well, it's kinda quadratic. MSE, as it turns out, is just a risk.\n",
    "\n"
   ]
  },
  {
   "cell_type": "code",
   "execution_count": null,
   "metadata": {},
   "outputs": [],
   "source": []
  }
 ],
 "metadata": {
  "kernelspec": {
   "display_name": "Python 3",
   "language": "python",
   "name": "python3"
  },
  "language_info": {
   "codemirror_mode": {
    "name": "ipython",
    "version": 3
   },
   "file_extension": ".py",
   "mimetype": "text/x-python",
   "name": "python",
   "nbconvert_exporter": "python",
   "pygments_lexer": "ipython3",
   "version": "3.7.4"
  }
 },
 "nbformat": 4,
 "nbformat_minor": 4
}
